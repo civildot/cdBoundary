{
 "cells": [
  {
   "cell_type": "markdown",
   "id": "58fddaef-2d48-47b7-ab30-b1c86c6eb331",
   "metadata": {},
   "source": [
    "# FileIO\n",
    "> Use [Fiona](https://fiona.readthedocs.io/en/stable/manual.html) to read points from a file and write the resulting polygon to a file."
   ]
  },
  {
   "cell_type": "code",
   "execution_count": null,
   "id": "304d49b5-75c6-4fbe-8d03-f116078e9f0f",
   "metadata": {},
   "outputs": [],
   "source": [
    "#| default_exp fileio"
   ]
  },
  {
   "cell_type": "code",
   "execution_count": null,
   "id": "ab6499d0-12ec-47a7-a1f8-1f731e61041f",
   "metadata": {},
   "outputs": [],
   "source": [
    "#| hide\n",
    "from nbdev.showdoc import *\n",
    "from pprint import pprint\n",
    "#from fastcore.basics import patch"
   ]
  },
  {
   "cell_type": "code",
   "execution_count": null,
   "id": "68325e62-1380-4020-a621-3ee45fffec4a",
   "metadata": {},
   "outputs": [],
   "source": [
    "#| export\n",
    "import fiona\n",
    "from fiona import Geometry, Feature, Properties\n",
    "from shapely.geometry import shape\n",
    "\n",
    "from cdBoundary.boundary import ConcaveHull"
   ]
  },
  {
   "cell_type": "markdown",
   "id": "3f59e904-a5b2-4a6b-a1ea-9ef6760f5fc4",
   "metadata": {},
   "source": [
    "## Supported Drivers"
   ]
  },
  {
   "cell_type": "code",
   "execution_count": null,
   "id": "2a0ae22d-fd03-458f-a7de-ccec1960de78",
   "metadata": {},
   "outputs": [
    {
     "name": "stdout",
     "output_type": "stream",
     "text": [
      "1. DXF  rw\n",
      "2. CSV  raw\n",
      "3. OpenFileGDB  raw\n",
      "4. ESRI Shapefile  raw\n",
      "5. FlatGeobuf  raw\n",
      "6. GeoJSON  raw\n",
      "7. GeoJSONSeq  raw\n",
      "8. GPKG  raw\n",
      "9. GML  rw\n",
      "10. OGR_GMT  rw\n",
      "11. GPX  rw\n",
      "12. MapInfo File  raw\n",
      "13. DGN  raw\n",
      "14. PCIDSK  raw\n",
      "15. SQLite  raw\n"
     ]
    }
   ],
   "source": [
    "i = 0\n",
    "for driver, actions in fiona.supported_drivers.items():\n",
    "    if 'w' in actions:\n",
    "        i += 1\n",
    "        print(i, '. ', driver, '  ', actions, sep='')"
   ]
  },
  {
   "cell_type": "markdown",
   "id": "eea76826-a938-4903-b343-ef767a8eb571",
   "metadata": {},
   "source": [
    "## Files in the `examples` folder"
   ]
  },
  {
   "cell_type": "code",
   "execution_count": null,
   "id": "c6dd46d2-be45-4afd-bc0c-0180e964b4a1",
   "metadata": {},
   "outputs": [],
   "source": [
    "#| export\n",
    "class FileIO(ConcaveHull):\n",
    "\n",
    "    def __init__(self, infile:str, inlayer: str=None):\n",
    "\n",
    "        self.triangles = dict()\n",
    "        self.tedges = list()\n",
    "        self.elengths = list()\n",
    "        self.maxtriangles = 0\n",
    "        \n",
    "        self.infile = infile\n",
    "        self.inlayer = inlayer\n",
    "        self.points = list()\n",
    "        \n",
    "        with fiona.open(infile, layer=inlayer) as source:\n",
    "            for feat in source:\n",
    "                # Todo: Support Z\n",
    "                pt = shape(feat.geometry)\n",
    "                if pt.geom_type == 'MultiPoint':\n",
    "                    for item in list(pt.geoms):\n",
    "                        self.points.append([item.x, item.y])\n",
    "                elif pt.geom_type == 'Point':\n",
    "                    self.points.append([pt.x, pt.y])"
   ]
  },
  {
   "cell_type": "markdown",
   "id": "f2c5f7e8-4da6-4f08-9959-8f56af09d580",
   "metadata": {},
   "source": [
    "## Example Usage"
   ]
  },
  {
   "cell_type": "code",
   "execution_count": null,
   "id": "0e7e1591-61f5-423d-bc35-8c2bdb04f821",
   "metadata": {},
   "outputs": [],
   "source": [
    "import os"
   ]
  },
  {
   "cell_type": "code",
   "execution_count": null,
   "id": "086ef726-8cf7-4691-997c-b507f4ffb280",
   "metadata": {},
   "outputs": [
    {
     "name": "stdout",
     "output_type": "stream",
     "text": [
      "BANDELIER8.TXT\n",
      "Bandelierkop_survey.cpg\n",
      "Bandelierkop_survey.dbf\n",
      "Bandelierkop_survey.prj\n",
      "Bandelierkop_survey.qmd\n",
      "Bandelierkop_survey.shp\n",
      "Bandelierkop_survey.shx\n"
     ]
    }
   ],
   "source": [
    "files = os.listdir('../examples')\n",
    "files.sort()\n",
    "for file in files:\n",
    "    print(file)"
   ]
  },
  {
   "cell_type": "code",
   "execution_count": null,
   "id": "4c78069b-11c8-409a-bd40-06e26ab616d3",
   "metadata": {},
   "outputs": [
    {
     "name": "stdout",
     "output_type": "stream",
     "text": [
      "15984\n",
      "\n",
      "CPU times: user 926 ms, sys: 12.4 ms, total: 939 ms\n",
      "Wall time: 937 ms\n"
     ]
    }
   ],
   "source": [
    "%%time\n",
    "\n",
    "fch = FileIO('../examples/Bandelierkop_survey.shp')\n",
    "fch.calculatehull(tol=35)\n",
    "print(len(fch.triangles))\n",
    "print()"
   ]
  },
  {
   "cell_type": "code",
   "execution_count": null,
   "id": "0290401d-0f26-43d8-8e94-919eff646d12",
   "metadata": {},
   "outputs": [],
   "source": [
    "#| hide\n",
    "import nbdev\n",
    "nbdev.nbdev_export()"
   ]
  }
 ],
 "metadata": {
  "kernelspec": {
   "display_name": "python3",
   "language": "python",
   "name": "python3"
  }
 },
 "nbformat": 4,
 "nbformat_minor": 5
}
