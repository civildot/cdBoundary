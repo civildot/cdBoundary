{
 "cells": [
  {
   "cell_type": "markdown",
   "id": "58fddaef-2d48-47b7-ab30-b1c86c6eb331",
   "metadata": {},
   "source": [
    "# FileIO\n",
    "> Use [Fiona](https://fiona.readthedocs.io/en/stable/manual.html) to read points from a file and write the resulting polygon to a file."
   ]
  },
  {
   "cell_type": "code",
   "execution_count": null,
   "id": "304d49b5-75c6-4fbe-8d03-f116078e9f0f",
   "metadata": {},
   "outputs": [],
   "source": [
    "#| default_exp fileio"
   ]
  },
  {
   "cell_type": "code",
   "execution_count": null,
   "id": "ab6499d0-12ec-47a7-a1f8-1f731e61041f",
   "metadata": {},
   "outputs": [],
   "source": [
    "#| hide\n",
    "from nbdev.showdoc import *\n",
    "from pprint import pprint\n",
    "#from fastcore.basics import patch"
   ]
  },
  {
   "cell_type": "code",
   "execution_count": null,
   "id": "68325e62-1380-4020-a621-3ee45fffec4a",
   "metadata": {},
   "outputs": [],
   "source": [
    "#| export\n",
    "import os\n",
    "import pathlib\n",
    "\n",
    "import fiona\n",
    "from fiona import Geometry, Feature, Properties\n",
    "from shapely.geometry import shape, mapping\n",
    "\n",
    "from cdBoundary.boundary import ConcaveHull"
   ]
  },
  {
   "cell_type": "markdown",
   "id": "3f59e904-a5b2-4a6b-a1ea-9ef6760f5fc4",
   "metadata": {},
   "source": [
    "## Supported Drivers"
   ]
  },
  {
   "cell_type": "code",
   "execution_count": null,
   "id": "212e27a8-a804-49ca-a9f9-012556e418e1",
   "metadata": {},
   "outputs": [],
   "source": [
    "from fiona.meta import extensions\n",
    "from tabulate import tabulate"
   ]
  },
  {
   "cell_type": "code",
   "execution_count": null,
   "id": "e06c44be-c06b-458b-a1b8-5723258773c6",
   "metadata": {},
   "outputs": [
    {
     "name": "stdout",
     "output_type": "stream",
     "text": [
      "  No  Driver          Modes    Extensions\n",
      "----  --------------  -------  ----------------------\n",
      "   1  CSV             raw      csv, tsv, psv\n",
      "   2  DGN             raw      dgn\n",
      "   3  DXF             rw       dxf\n",
      "   4  ESRI Shapefile  raw      shp, dbf, shz, shp.zip\n",
      "   5  ESRIJSON        r        json\n",
      "   6  FlatGeobuf      raw      fgb\n",
      "   7  GML             rw       gml, xml\n",
      "   8  GPKG            raw      gpkg, gpkg.zip\n",
      "   9  GPX             rw       gpx\n",
      "  10  GeoJSON         raw      json, geojson\n",
      "  11  GeoJSONSeq      raw      geojsonl, geojsons\n",
      "  12  Idrisi          r        vct\n",
      "  13  MapInfo File    raw      tab, mif, mid\n",
      "  14  OGR_GMT         rw       gmt\n",
      "  15  OGR_PDS         r\n",
      "  16  OpenFileGDB     raw      gdb\n",
      "  17  PCIDSK          raw      pix\n",
      "  18  S57             r        000\n",
      "  19  SQLite          raw      sqlite, db\n",
      "  20  TopoJSON        r        json, topojson\n"
     ]
    }
   ],
   "source": [
    "drvdata = list()\n",
    "for drv, modes in fiona.supported_drivers.items():\n",
    "    drvdata.append([drv, modes])\n",
    "drvdata.sort()\n",
    "\n",
    "for i, item in enumerate(drvdata):\n",
    "    drv = item[0]\n",
    "    extlist = list()\n",
    "    for extension in extensions(drv) or ():\n",
    "        extlist.append(extension)\n",
    "    extoptions = ''\n",
    "    for j, extension in enumerate(extlist):\n",
    "        extoptions += extension\n",
    "        if j < len(extlist)-1:\n",
    "            extoptions += ', '\n",
    "    item.append(extoptions)\n",
    "    item.insert(0, (str(i+1)+'.'))\n",
    "\n",
    "columns = ['No', 'Driver', 'Modes', 'Extensions']\n",
    "print(tabulate(drvdata, headers=columns))"
   ]
  },
  {
   "cell_type": "code",
   "execution_count": null,
   "id": "c6dd46d2-be45-4afd-bc0c-0180e964b4a1",
   "metadata": {},
   "outputs": [],
   "source": [
    "#| export\n",
    "class FileIO(ConcaveHull):\n",
    "\n",
    "    def __init__(self):\n",
    "\n",
    "        self.triangles = dict()\n",
    "        self.tedges = list()\n",
    "        self.elengths = list()\n",
    "        self.maxtriangles = 0\n",
    "        self.points = list()\n",
    "        self.crs = None\n",
    "        self.driver = None\n",
    "        self.schema = None\n",
    "        self.hull = None\n",
    "        \n",
    "\n",
    "    def file2points(self, infile:str, inlayer: str=None):\n",
    "\n",
    "        ''' \n",
    "        Reads a file with a format supported by Fiona. Extracts all the points\n",
    "        and add it to the point list.\n",
    "\n",
    "            Parameters:\n",
    "                infile (str)  : The file name\n",
    "                inlayer (str) : The layer in the file where applicable\n",
    "    \n",
    "            Returns:\n",
    "                None\n",
    "        \n",
    "        Todo: Provide option to breakdown LineStrings and Polygon\n",
    "              to points. Do I need to check for point duplication?\n",
    "              Easy, but will require a new dependency, `rtree`. \n",
    "                  \n",
    "               def file2points(self, infile:str, inlayer: str=None, \n",
    "                               allgeometries: bool=False):\n",
    "        '''\n",
    "        \n",
    "        self.infile = infile\n",
    "        \n",
    "        with fiona.open(infile, layer=inlayer) as source:\n",
    "            self.crs = source.crs\n",
    "            self.driver = source.driver\n",
    "            self.schema = source.schema\n",
    "            for feat in source:\n",
    "                pt = shape(feat.geometry)\n",
    "                if pt.geom_type == 'Point':\n",
    "                    if pt.has_z:\n",
    "                        self.points.append([pt.x, pt.y, pt.z])\n",
    "                    else:\n",
    "                        self.points.append([pt.x, pt.y])\n",
    "                elif pt.geom_type == 'MultiPoint':\n",
    "                    for item in list(pt.geoms):\n",
    "                        if item.has_z:\n",
    "                            self.points.append([item.x, item.y, item.z])\n",
    "                        else:\n",
    "                            self.points.append([item.x, item.y])\n",
    "                    \n",
    "\n",
    "    def write2file(self, outfile: str=None, outlayer: str=None, \n",
    "                   driver:str = None, crs: str=None, \n",
    "                   perc: float=None, tol: float=None):\n",
    "                       \n",
    "        '''\n",
    "         Write the concave hull polygon to a file. \n",
    "        \n",
    "                Parameters:\n",
    "                    outfile (str) : The file name of the output file. If not specified\n",
    "                                    it will be named `concave_hull`  \n",
    "                    outlayer (str): The name of the layer in the output file where\n",
    "                                    applicable  \n",
    "                    driver (str)  : See table above on possible driver options\n",
    "                                    Only drivers with `w` in the mode can be used.\n",
    "                                    Drivers other than the 'mainstream' my vary in\n",
    "                                    success.  \n",
    "                    crs (str)     : the coordinate reference system in WKT format.\n",
    "                                    Not essential  \n",
    "                    perc (float)  : Will calculate the concave hull using this\n",
    "                                    percentile on the triangle edges. See the\n",
    "                                    `estimate` method in `ConcaveHull`.  \n",
    "                    tol (float)   : Will calculate the concave hull using this\n",
    "                                    length tolerance. See the `calculatehull` method\n",
    "                                    in `ConcaveHull`.  \n",
    "    \n",
    "                Returns:\n",
    "                     None\n",
    "        '''\n",
    "\n",
    "        if perc is not None:\n",
    "            self.calculatehull(tol=fch.estimate(perc=perc))\n",
    "        elif tol is not None:\n",
    "            self.calculatehull(tol=tol)\n",
    "        elif self.hull is None and perc is None and tol is None:\n",
    "            self.calculatehull(tol=fch.estimate())\n",
    "\n",
    "        if driver is not None and driver != self.driver:\n",
    "            drvchange = True\n",
    "            self.driver = driver\n",
    "        else:\n",
    "            drvchange = False\n",
    "\n",
    "        if crs is not None:\n",
    "            self.crs = crs\n",
    "\n",
    "        # Any other drivers to ad?\n",
    "        gisdrivers = ['ESRI Shapefile',\n",
    "                      'GPKG',\n",
    "                      'GeoJSON',\n",
    "                      'OpenFileGDB']\n",
    "                       \n",
    "        geom = Geometry.from_dict(mapping(self.hull))              \n",
    "        if self.driver in gisdrivers:\n",
    "            self.schema = {'geometry': 'Polygon', \n",
    "                           'properties': {'id': 'int',\n",
    "                                          'Area': 'float',\n",
    "                                          'Perimeter': 'float',\n",
    "                                          'Vertices': 'int'}}\n",
    "            props = dict()\n",
    "            props['id'] = 1\n",
    "            props['Area'] = round(self.hull.area, 3)\n",
    "            props['Perimeter'] = round(self.hull.length, 3)\n",
    "            props['Vertices'] = len(self.boundary_points())\n",
    "        else:\n",
    "            self.schema['geometry'] = 'Polygon'\n",
    "            props = dict()\n",
    "            for key, item in self.schema['properties'].items():\n",
    "                props[key] = None\n",
    "        rec = Feature(geometry=geom, properties=Properties.from_dict(props))\n",
    "\n",
    "        if outfile is None and drvchange:\n",
    "            print('Please provide an output file name.')\n",
    "        elif outfile is None:\n",
    "            path = os.path.abspath(self.infile)\n",
    "            (dirname, filename) = os.path.split(path)\n",
    "            # Get extension from the infile name\n",
    "            fext = pathlib.Path(filename).suffix\n",
    "            outname = 'concave_hull'+fext\n",
    "            outfile = os.path.join(dirname, outname)\n",
    "\n",
    "        if outlayer is None:\n",
    "            outlayer = 'concave_hull'\n",
    "\n",
    "        with fiona.open(outfile, 'w', layer=outlayer, schema=self.schema,\n",
    "                        driver=self.driver, crs=self.crs) as sink:\n",
    "            sink.write(rec)\n"
   ]
  },
  {
   "cell_type": "code",
   "execution_count": null,
   "id": "eecddfc1-fc7a-4b41-bbe5-f0adc73fdb6b",
   "metadata": {},
   "outputs": [
    {
     "data": {
      "text/markdown": [
       "---\n",
       "\n",
       "[source](https://github.com/civildot/cdBoundary/blob/main/cdBoundary/fileio.py#L32){target=\"_blank\" style=\"float:right; font-size:smaller\"}\n",
       "\n",
       "### FileIO.file2points\n",
       "\n",
       ">      FileIO.file2points (infile:str, inlayer:str=None)\n",
       "\n",
       "Reads a file with a format supported by Fiona. Extracts all the points\n",
       "and add it to the point list.\n",
       "\n",
       "    Parameters:\n",
       "        infile (str)  : The file name\n",
       "        inlayer (str) : The layer in the file where applicable\n",
       "\n",
       "    Returns:\n",
       "        None\n",
       "\n",
       "Todo: Provide option to breakdown LineStrings and Polygon\n",
       "      to points. Do I need to check for point duplication?\n",
       "      Easy, but will require a new dependency, `rtree`. \n",
       "\n",
       "       def file2points(self, infile:str, inlayer: str=None, \n",
       "                       allgeometries: bool=False):"
      ],
      "text/plain": [
       "---\n",
       "\n",
       "[source](https://github.com/civildot/cdBoundary/blob/main/cdBoundary/fileio.py#L32){target=\"_blank\" style=\"float:right; font-size:smaller\"}\n",
       "\n",
       "### FileIO.file2points\n",
       "\n",
       ">      FileIO.file2points (infile:str, inlayer:str=None)\n",
       "\n",
       "Reads a file with a format supported by Fiona. Extracts all the points\n",
       "and add it to the point list.\n",
       "\n",
       "    Parameters:\n",
       "        infile (str)  : The file name\n",
       "        inlayer (str) : The layer in the file where applicable\n",
       "\n",
       "    Returns:\n",
       "        None\n",
       "\n",
       "Todo: Provide option to breakdown LineStrings and Polygon\n",
       "      to points. Do I need to check for point duplication?\n",
       "      Easy, but will require a new dependency, `rtree`. \n",
       "\n",
       "       def file2points(self, infile:str, inlayer: str=None, \n",
       "                       allgeometries: bool=False):"
      ]
     },
     "execution_count": null,
     "metadata": {},
     "output_type": "execute_result"
    }
   ],
   "source": [
    "#|output: asis\n",
    "show_doc(FileIO.file2points)"
   ]
  },
  {
   "cell_type": "code",
   "execution_count": null,
   "id": "fa1044e0-13a1-43dd-b1ae-c25e55761937",
   "metadata": {},
   "outputs": [
    {
     "data": {
      "text/markdown": [
       "---\n",
       "\n",
       "[source](https://github.com/civildot/cdBoundary/blob/main/cdBoundary/fileio.py#L62){target=\"_blank\" style=\"float:right; font-size:smaller\"}\n",
       "\n",
       "### FileIO.write2file\n",
       "\n",
       ">      FileIO.write2file (outfile:str=None, outlayer:str=None, driver:str=None,\n",
       ">                         crs:str=None, perc:float=None, tol:float=None)\n",
       "\n",
       "Write the concave hull polygon to a file. \n",
       "\n",
       "Parameters:\n",
       "    outfile (str) : The file name of the output file. If not specified\n",
       "                    it will be named `concave_hull`  \n",
       "    outlayer (str): The name of the layer in the output file where\n",
       "                    applicable  \n",
       "    driver (str)  : See table above on possible driver options\n",
       "                    Only drivers with `w` in the mode can be used.\n",
       "                    Drivers other than the 'mainstream' my vary in\n",
       "                    success.  \n",
       "    crs (str)     : the coordinate reference system in WKT format.\n",
       "                    Not essential  \n",
       "    perc (float)  : Will calculate the concave hull using this\n",
       "                    percentile on the triangle edges. See the\n",
       "                    `estimate` method in `ConcaveHull`.  \n",
       "    tol (float)   : Will calculate the concave hull using this\n",
       "                    length tolerance. See the `calculatehull` method\n",
       "                    in `ConcaveHull`.  \n",
       "\n",
       "Returns:\n",
       "     None"
      ],
      "text/plain": [
       "---\n",
       "\n",
       "[source](https://github.com/civildot/cdBoundary/blob/main/cdBoundary/fileio.py#L62){target=\"_blank\" style=\"float:right; font-size:smaller\"}\n",
       "\n",
       "### FileIO.write2file\n",
       "\n",
       ">      FileIO.write2file (outfile:str=None, outlayer:str=None, driver:str=None,\n",
       ">                         crs:str=None, perc:float=None, tol:float=None)\n",
       "\n",
       "Write the concave hull polygon to a file. \n",
       "\n",
       "Parameters:\n",
       "    outfile (str) : The file name of the output file. If not specified\n",
       "                    it will be named `concave_hull`  \n",
       "    outlayer (str): The name of the layer in the output file where\n",
       "                    applicable  \n",
       "    driver (str)  : See table above on possible driver options\n",
       "                    Only drivers with `w` in the mode can be used.\n",
       "                    Drivers other than the 'mainstream' my vary in\n",
       "                    success.  \n",
       "    crs (str)     : the coordinate reference system in WKT format.\n",
       "                    Not essential  \n",
       "    perc (float)  : Will calculate the concave hull using this\n",
       "                    percentile on the triangle edges. See the\n",
       "                    `estimate` method in `ConcaveHull`.  \n",
       "    tol (float)   : Will calculate the concave hull using this\n",
       "                    length tolerance. See the `calculatehull` method\n",
       "                    in `ConcaveHull`.  \n",
       "\n",
       "Returns:\n",
       "     None"
      ]
     },
     "execution_count": null,
     "metadata": {},
     "output_type": "execute_result"
    }
   ],
   "source": [
    "#|output: asis\n",
    "show_doc(FileIO.write2file)"
   ]
  },
  {
   "cell_type": "markdown",
   "id": "f2c5f7e8-4da6-4f08-9959-8f56af09d580",
   "metadata": {},
   "source": [
    "## Example Usage"
   ]
  },
  {
   "cell_type": "markdown",
   "id": "eea76826-a938-4903-b343-ef767a8eb571",
   "metadata": {},
   "source": [
    "### Files in the `examples` folder"
   ]
  },
  {
   "cell_type": "code",
   "execution_count": null,
   "id": "086ef726-8cf7-4691-997c-b507f4ffb280",
   "metadata": {},
   "outputs": [
    {
     "name": "stdout",
     "output_type": "stream",
     "text": [
      "BANDELIER 8.dxf\n",
      "BANDELIER8.TXT\n",
      "Bandelierkop_survey.cpg\n",
      "Bandelierkop_survey.dbf\n",
      "Bandelierkop_survey.prj\n",
      "Bandelierkop_survey.qmd\n",
      "Bandelierkop_survey.shp\n",
      "Bandelierkop_survey.shx\n",
      "points-1k.json\n"
     ]
    }
   ],
   "source": [
    "files = os.listdir('../examples')\n",
    "files.sort()\n",
    "for file in files:\n",
    "    print(file)"
   ]
  },
  {
   "cell_type": "code",
   "execution_count": null,
   "id": "3a4d86d2-b1b5-4cca-8293-2cfa7c7c4de2",
   "metadata": {},
   "outputs": [],
   "source": [
    "fch = FileIO()\n",
    "fch.file2points('../examples/BANDELIER 8.dxf')\n",
    "fch.write2file()"
   ]
  },
  {
   "cell_type": "code",
   "execution_count": null,
   "id": "4c78069b-11c8-409a-bd40-06e26ab616d3",
   "metadata": {},
   "outputs": [
    {
     "name": "stdout",
     "output_type": "stream",
     "text": [
      "15984\n",
      "\n",
      "CPU times: user 1.09 s, sys: 16.4 ms, total: 1.1 s\n",
      "Wall time: 1.09 s\n"
     ]
    }
   ],
   "source": [
    "%%time\n",
    "\n",
    "fch = FileIO()\n",
    "fch.file2points('../examples/Bandelierkop_survey.shp')\n",
    "fch.calculatehull(tol=35)\n",
    "fch.write2file()\n",
    "print(len(fch.triangles))\n",
    "print()"
   ]
  },
  {
   "cell_type": "code",
   "execution_count": null,
   "id": "d2ad8119-8cbd-4b04-8691-4042e6d81637",
   "metadata": {},
   "outputs": [],
   "source": [
    "#| hide\n",
    "\n",
    "# Delete all generated files in the `examples` folder\n",
    "\n",
    "items = os.listdir('../examples')\n",
    "for item in items:\n",
    "    if 'concave_hull' in item:\n",
    "        os.remove(os.path.join('../examples', item))"
   ]
  },
  {
   "cell_type": "code",
   "execution_count": null,
   "id": "0290401d-0f26-43d8-8e94-919eff646d12",
   "metadata": {},
   "outputs": [],
   "source": [
    "#| hide\n",
    "import nbdev\n",
    "nbdev.nbdev_export()"
   ]
  },
  {
   "cell_type": "code",
   "execution_count": null,
   "id": "411f5e49-7c66-4ad8-84d8-2f8387746b11",
   "metadata": {},
   "outputs": [],
   "source": []
  }
 ],
 "metadata": {
  "kernelspec": {
   "display_name": "python3",
   "language": "python",
   "name": "python3"
  }
 },
 "nbformat": 4,
 "nbformat_minor": 5
}
