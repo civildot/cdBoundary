{
 "cells": [
  {
   "cell_type": "markdown",
   "metadata": {},
   "source": [
    "# Boundary\n",
    "\n",
    "> Calculate a *Concave Hull* for a collection of points given a maximum edge length as the parameter."
   ]
  },
  {
   "cell_type": "code",
   "execution_count": null,
   "metadata": {},
   "outputs": [],
   "source": [
    "#| default_exp boundary"
   ]
  },
  {
   "cell_type": "code",
   "execution_count": null,
   "metadata": {},
   "outputs": [],
   "source": [
    "#| hide\n",
    "from nbdev.showdoc import *\n",
    "#from fastcore.basics import patch"
   ]
  },
  {
   "cell_type": "code",
   "execution_count": null,
   "metadata": {},
   "outputs": [],
   "source": [
    "#| export\n",
    "import bisect\n",
    "import math\n",
    "\n",
    "import numpy as np\n",
    "import matplotlib.tri as tri\n",
    "import matplotlib.pyplot as plt\n",
    "from shapely.geometry import LineString\n",
    "from shapely.geometry import Polygon\n",
    "from shapely.ops import linemerge"
   ]
  },
  {
   "cell_type": "code",
   "execution_count": null,
   "metadata": {},
   "outputs": [],
   "source": [
    "#| export\n",
    "class ConcaveHull:\n",
    "\n",
    "    def __init__(self):\n",
    "        self.triangles = dict()\n",
    "        self.tedges = list()\n",
    "        self.elengths = list()\n",
    "        self.maxtriangles = 0\n",
    "    \n",
    "\n",
    "    def _edge(self, key: int, triangle: int) -> list:\n",
    "        \n",
    "        '''Calculate the length of the triangle's outside edge\n",
    "        and returns the [length, key]'''\n",
    "        \n",
    "        pos = triangle[1].index(-1)\n",
    "        if pos==0:\n",
    "            x1 = self.points[triangle[0][0]][0]\n",
    "            y1 = self.points[triangle[0][0]][1]\n",
    "            x2 = self.points[triangle[0][1]][0]\n",
    "            y2 = self.points[triangle[0][1]][1]\n",
    "        elif pos==1:\n",
    "            x1 = self.points[triangle[0][1]][0]\n",
    "            y1 = self.points[triangle[0][1]][1]\n",
    "            x2 = self.points[triangle[0][2]][0]\n",
    "            y2 = self.points[triangle[0][2]][1]\n",
    "        elif pos==2:\n",
    "            x1 = self.points[triangle[0][0]][0]\n",
    "            y1 = self.points[triangle[0][0]][1]\n",
    "            x2 = self.points[triangle[0][2]][0]\n",
    "            y2 = self.points[triangle[0][2]][1]\n",
    "        length = ((x1-x2)**2+(y1-y2)**2)**0.5\n",
    "        rec = [length, key]\n",
    "        return rec\n",
    "        \n",
    "\n",
    "    def loadpoints(self, points: list) -> None:\n",
    "\n",
    "        ''' Point format: [[x1, y1], [x2, y2], [x3, y3], ...]\n",
    "                          or [[x1, y1, z1], [x2, y2, z2], [x3, y3, z3], ...]'''\n",
    "        self.points = points\n",
    "        \n",
    "    \n",
    "    def triangulate(self, edges: bool=False) -> None:\n",
    "        \n",
    "        if len(self.points) < 2:\n",
    "            raise Exception('CountError: You need at least 3 points to Triangulate')\n",
    "        \n",
    "        temp = list(zip(*self.points))\n",
    "        x, y = list(temp[0]), list(temp[1])\n",
    "        del(temp)\n",
    "        \n",
    "        triang = tri.Triangulation(x, y)\n",
    "\n",
    "        if edges:\n",
    "            self.tedges = triang.edges\n",
    "        \n",
    "        self.triangles = dict()\n",
    "        \n",
    "        for i, triangle in enumerate(triang.triangles):\n",
    "            self.triangles[i] = [list(triangle), list(triang.neighbors[i])]\n",
    "            \n",
    "        self.maxtriangles = len(self.triangles)\n",
    "            \n",
    "                    \n",
    "    def polygon(self):\n",
    "\n",
    "        Z = False\n",
    "        if len(self.points[0]) >= 3:\n",
    "            Z = True\n",
    "        \n",
    "        edgelines = list()\n",
    "        for i, triangle in self.triangles.items():\n",
    "            if -1 in triangle[1]:\n",
    "                for pos, value in enumerate(triangle[1]):\n",
    "                    if value == -1:\n",
    "                        if pos==0:\n",
    "                            if not Z:\n",
    "                                x1, y1 = self.points[triangle[0][0]]\n",
    "                                x2, y2 = self.points[triangle[0][1]]\n",
    "                            else:\n",
    "                                x1, y1, z1 = self.points[triangle[0][0]]\n",
    "                                x2, y2, z2 = self.points[triangle[0][1]]\n",
    "                        elif pos==1:\n",
    "                            if not Z:\n",
    "                                x1, y1 = self.points[triangle[0][1]]\n",
    "                                x2, y2 = self.points[triangle[0][2]]\n",
    "                            else:\n",
    "                                x1, y1, z1 = self.points[triangle[0][1]]\n",
    "                                x2, y2, z2 = self.points[triangle[0][2]]\n",
    "                        elif pos==2:\n",
    "                            if not Z:\n",
    "                                x1, y1 = self.points[triangle[0][0]]\n",
    "                                x2, y2 = self.points[triangle[0][2]]\n",
    "                            else:\n",
    "                                x1, y1, z1 = self.points[triangle[0][0]]\n",
    "                                x2, y2, z2 = self.points[triangle[0][2]]\n",
    "                        if not Z:\n",
    "                            line = LineString([(x1, y1), (x2, y2)])\n",
    "                        else:\n",
    "                            line = LineString([(x1, y1, z1), (x2, y2, z2)])\n",
    "                        edgelines.append(line)\n",
    "\n",
    "        bound = linemerge(edgelines)\n",
    "    \n",
    "        self.hull = Polygon(bound.coords)\n",
    "\n",
    "\n",
    "    def calculatehull(self, tol: float=50) -> None:\n",
    "        \n",
    "        self.tol = tol\n",
    "\n",
    "        if len(self.triangles) == 0 or len(self.triangles) < self.maxtriangles:\n",
    "            self.triangulate()\n",
    "        \n",
    "        # All triangles with one boundary longer than the tolerance (self.tol)\n",
    "        # is added to a sorted deletion list.\n",
    "        # The list is kept sorted from according to the boundary edge's length\n",
    "        # using bisect        \n",
    "        deletion = list()   \n",
    "        self.boundary_vertices = set()\n",
    "        for i, triangle in self.triangles.items():\n",
    "            if -1 in triangle[1]:\n",
    "                for pos, neigh in enumerate(triangle[1]):\n",
    "                    if neigh == -1:\n",
    "                        if pos == 0:\n",
    "                            self.boundary_vertices.add(triangle[0][0])\n",
    "                            self.boundary_vertices.add(triangle[0][1])\n",
    "                        elif pos == 1:\n",
    "                            self.boundary_vertices.add(triangle[0][1])\n",
    "                            self.boundary_vertices.add(triangle[0][2])\n",
    "                        elif pos == 2:\n",
    "                            self.boundary_vertices.add(triangle[0][0])\n",
    "                            self.boundary_vertices.add(triangle[0][2])\n",
    "            if -1 in triangle[1] and triangle[1].count(-1) == 1:\n",
    "                rec = self._edge(i, triangle)\n",
    "                if rec[0] > self.tol and triangle[1].count(-1) == 1:\n",
    "                    bisect.insort(deletion, rec)\n",
    "                    \n",
    "        while len(deletion) != 0:\n",
    "            # The triangles with the longest boundary edges will be \n",
    "            # deleted first\n",
    "            item = deletion.pop()\n",
    "            ref = item[1]\n",
    "            flag = 0\n",
    "            \n",
    "            # Triangle will not be deleted if it already has two boundary edges            \n",
    "            if self.triangles[ref][1].count(-1) > 1:\n",
    "                continue\n",
    "                \n",
    "            # Triangle will not be deleted if the inside node which is not\n",
    "            # on this triangle's boundary is already on the boundary of \n",
    "            # another triangle\n",
    "            adjust = {0: 2, 1: 0, 2: 1}            \n",
    "            for i, neigh in enumerate(self.triangles[ref][1]):\n",
    "                j = adjust[i]\n",
    "                if neigh == -1 and self.triangles[ref][0][j] in self.boundary_vertices:\n",
    "                    flag = 1\n",
    "                    break\n",
    "            if flag == 1:\n",
    "                continue\n",
    "           \n",
    "            for i, neigh in enumerate(self.triangles[ref][1]):\n",
    "                if neigh == -1:\n",
    "                    continue\n",
    "                pos = self.triangles[neigh][1].index(ref)\n",
    "                self.triangles[neigh][1][pos] = -1\n",
    "                rec = self._edge(neigh, self.triangles[neigh])\n",
    "                if rec[0] > self.tol and self.triangles[rec[1]][1].count(-1) == 1:\n",
    "                    bisect.insort(deletion, rec)\n",
    "                    \n",
    "            for pt in self.triangles[ref][0]:\n",
    "                self.boundary_vertices.add(pt)\n",
    "                                        \n",
    "            del self.triangles[ref]\n",
    "            \n",
    "        self.polygon()\n",
    "\n",
    "\n",
    "    def estimate(self, perc: float=92.5) -> float:\n",
    "\n",
    "        ''' Gives an estimate of the val to be used in `tol` for `calculatehull`\n",
    "            to yeild a nice looking concave hull\n",
    "\n",
    "                Parameters:\n",
    "                    perc (float) : Number between 0 and 100\n",
    "\n",
    "                Returns:\n",
    "                    (float) : Suggested value to use as `tol` in\n",
    "                              `calculatehull`\n",
    "        '''\n",
    "\n",
    "        if len(self.tedges) == 0:\n",
    "            self.triangulate(edges=True)\n",
    "\n",
    "        if len(self.elengths) == 0:\n",
    "            for edge in self.tedges:\n",
    "                x1, y1 = self.points[edge[0]][0], self.points[edge[0]][1]\n",
    "                x2, y2 = self.points[edge[1]][0], self.points[edge[1]][1]\n",
    "                length = ((x1-x2)**2+(y1-y2)**2)**0.5\n",
    "                self.elengths.append(length)\n",
    "\n",
    "        suggestion = np.percentile(np.array(self.elengths), perc)\n",
    "        \n",
    "        return suggestion\n",
    "\n",
    "\n",
    "    def boundary_points(self) -> list:\n",
    "\n",
    "        '''Returns a list of the boundary points'''\n",
    "        \n",
    "        return list(self.hull.exterior.coords)\n",
    "\n",
    "\n",
    "    def plot(self, figsize: int=5):\n",
    "\n",
    "        '''Plot the points and the concave hull'''\n",
    "\n",
    "        ratio = 1\n",
    "        fig = plt.figure(figsize=(figsize,figsize))\n",
    "        ax = plt.axes()\n",
    "        ax.set_aspect(ratio)\n",
    "        plt.axis('off')\n",
    "\n",
    "        x, y = list(), list()\n",
    "        for pt in self.points:\n",
    "            x.append(pt[0])\n",
    "            y.append(pt[1])\n",
    "        plt.plot(x, y, '.', color='black')\n",
    "\n",
    "        x,y = self.hull.exterior.xy\n",
    "        plt.plot(x,y, color='blue')\n",
    "\n",
    "        plt.show()"
   ]
  },
  {
   "cell_type": "markdown",
   "metadata": {},
   "source": [
    "## Usage Example"
   ]
  },
  {
   "cell_type": "markdown",
   "metadata": {},
   "source": [
    "Example of a real strip survey from on a section of road."
   ]
  },
  {
   "cell_type": "code",
   "execution_count": null,
   "metadata": {},
   "outputs": [
    {
     "name": "stdout",
     "output_type": "stream",
     "text": [
      "['STN9', '88609.53', '-2573311.58', '1071.33']\n",
      "['FE1000', '88611.22', '-2573309.87', '1071.30', 'Fenline']\n",
      "['FE1001', '88612.12', '-2573310.23', '1071.40', 'Fenline']\n",
      "['FE1002', '88624.42', '-2573296.98', '1071.45', 'Fenline']\n",
      "['FE1003', '88636.30', '-2573283.87', '1070.87', 'Fenline']\n",
      "['FE1004', '88651.24', '-2573273.17', '1070.39', 'Fenline']\n",
      "\n",
      "Number of points in the survey: 12275\n"
     ]
    }
   ],
   "source": [
    "with open('../examples/BANDELIER8.TXT') as source:\n",
    "    points = list()\n",
    "    for i, pt in enumerate(source):\n",
    "        items = pt.split()\n",
    "        if i <= 5:\n",
    "           print(items)\n",
    "        x, y, z = float(items[1]), float(items[2]), float(items[3])\n",
    "        points.append((x, y))\n",
    "print()\n",
    "print('Number of points in the survey:', len(points))"
   ]
  },
  {
   "cell_type": "markdown",
   "metadata": {},
   "source": [
    "The `tol` parameter in the `calculatehull` method is in this case expressed as metres. All boundary edges greater than this will be investigated for possible removal.  \n",
    "\n",
    "Boundary edges longer than this can possibly remain if the the triangle has two boundary edges already. No points will be left \"stranded\" outside the hull.\n",
    "\n",
    "Depending on the input points the `tol` parameter can be in degrees or feet as well."
   ]
  },
  {
   "cell_type": "code",
   "execution_count": null,
   "metadata": {},
   "outputs": [
    {
     "name": "stdout",
     "output_type": "stream",
     "text": [
      "\n",
      "Number of points on the boundary: 1675\n",
      "\n",
      "CPU times: user 284 ms, sys: 6.77 ms, total: 291 ms\n",
      "Wall time: 290 ms\n"
     ]
    }
   ],
   "source": [
    "%%time\n",
    "\n",
    "ch = ConcaveHull()\n",
    "ch.loadpoints(points)\n",
    "ch.calculatehull(tol=35)\n",
    "\n",
    "print()\n",
    "print('Number of points on the boundary:', len(ch.boundary_points()))\n",
    "print()"
   ]
  },
  {
   "cell_type": "code",
   "execution_count": null,
   "metadata": {},
   "outputs": [
    {
     "data": {
      "image/png": "[encoded data removed]",
      "text/plain": [
       "<Figure size 1800x1800 with 1 Axes>"
      ]
     },
     "metadata": {},
     "output_type": "display_data"
    }
   ],
   "source": [
    "ch.plot(figsize=18)"
   ]
  },
  {
   "cell_type": "markdown",
   "metadata": {},
   "source": [
    "If there is an uncertainty on which value to use for the `tol` parameter the `estimate` method can be used to provide a starting value."
   ]
  },
  {
   "cell_type": "code",
   "execution_count": null,
   "metadata": {},
   "outputs": [
    {
     "name": "stdout",
     "output_type": "stream",
     "text": [
      "30.13064834845798\n"
     ]
    }
   ],
   "source": [
    "estimate = ch.estimate()\n",
    "print(estimate)"
   ]
  },
  {
   "cell_type": "code",
   "execution_count": null,
   "metadata": {},
   "outputs": [
    {
     "name": "stdout",
     "output_type": "stream",
     "text": [
      "\n",
      "Number of points on the boundary: 1975\n",
      "\n"
     ]
    }
   ],
   "source": [
    "ch.calculatehull(tol=estimate)\n",
    "\n",
    "print()\n",
    "print('Number of points on the boundary:',len(ch.boundary_points()))\n",
    "print()"
   ]
  },
  {
   "cell_type": "code",
   "execution_count": null,
   "metadata": {},
   "outputs": [],
   "source": [
    "#| hide\n",
    "import nbdev\n",
    "nbdev.nbdev_export()"
   ]
  },
  {
   "cell_type": "code",
   "execution_count": null,
   "metadata": {},
   "outputs": [],
   "source": []
  }
 ],
 "metadata": {
  "kernelspec": {
   "display_name": "python3",
   "language": "python",
   "name": "python3"
  }
 },
 "nbformat": 4,
 "nbformat_minor": 4
}
