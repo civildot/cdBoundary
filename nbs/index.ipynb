{
 "cells": [
  {
   "cell_type": "markdown",
   "metadata": {},
   "source": [
    "# cdBoundary\n",
    "\n",
    "> A very fast 2.5D **concave hull** algorithm by distance implemented in Python"
   ]
  },
  {
   "cell_type": "markdown",
   "metadata": {},
   "source": [
    "A very fast 2.5D **concave hull** algorithm by distance implemented in Python.  \n",
    "\n",
    "Rather than using a factor between 0 and 1 as most *Concave Hull* or *Alpha Shape* algorithms this implementation uses *maximum edge length* (`tol`) as a paramater. \n",
    "\n",
    "The library was needed specific for *survey* or *LiDAR* data for engineering applications."
   ]
  },
  {
   "cell_type": "markdown",
   "metadata": {},
   "source": [
    "## Install"
   ]
  },
  {
   "cell_type": "markdown",
   "metadata": {},
   "source": [
    "```sh\n",
    "git clone https://github.com/civildot/cdBoundary\n",
    "cd cdBoundary\n",
    "python setup.py install\n",
    "```"
   ]
  },
  {
   "cell_type": "markdown",
   "metadata": {},
   "source": [
    "## Usage"
   ]
  },
  {
   "cell_type": "markdown",
   "metadata": {},
   "source": [
    "### 1. As a library"
   ]
  },
  {
   "cell_type": "markdown",
   "metadata": {},
   "source": [
    "The points should be in list format with coordinate pairs:  \n",
    "`[[x1, y1], [x2, y2], [x3, y3], ...]`  or  \n",
    "`[[x1, y1, z1], [x2, y2, z2], [x3, y3, z3], ...]`\n",
    "\n",
    "\n",
    "All edge lengths exceeding `tol` parameter will be attempted to be removed. This parameter's unit will thus be the same as your coordinates. Wether it is meters, feet or degrees.  \n",
    "\n",
    "The `../examples/points-1k.json` dataset was borrowed with thanks from [concaveman](https://github.com/mapbox/concaveman)."
   ]
  },
  {
   "cell_type": "code",
   "execution_count": null,
   "metadata": {},
   "outputs": [],
   "source": [
    "import json\n",
    "from cdBoundary.boundary import ConcaveHull\n",
    "\n",
    "ch = ConcaveHull()\n",
    "with open('../examples/points-1k.json') as source:\n",
    "    pts = json.load(source)\n",
    "ch.loadpoints(pts)\n",
    "ch.calculatehull(tol=0.002)"
   ]
  },
  {
   "cell_type": "markdown",
   "metadata": {},
   "source": [
    "The result is a `shapely` Polygon at `ch.hull`."
   ]
  },
  {
   "cell_type": "code",
   "execution_count": null,
   "metadata": {},
   "outputs": [
    {
     "name": "stdout",
     "output_type": "stream",
     "text": [
      "Geometry type: Polygon\n",
      "\n",
      "The first 5 coordinates of the concave hull is:\n",
      "1.(-122.08441, 37.384634)\n",
      "2.(-122.0832, 37.383161)\n",
      "3.(-122.0822, 37.381746)\n",
      "4.(-122.08214, 37.3812)\n",
      "5.(-122.08204, 37.380184)\n"
     ]
    }
   ],
   "source": [
    "print('Geometry type:', ch.hull.geom_type)\n",
    "coords = ch.boundary_points()\n",
    "print()\n",
    "print('The first 5 coordinates of the concave hull is:')\n",
    "for i in range(5):\n",
    "    print(i+1, '.', coords[i], sep='')"
   ]
  },
  {
   "cell_type": "markdown",
   "metadata": {},
   "source": [
    "If there is an uncertianty on which value to use for `tol` the `estimate` function can be used to provide an estimate. The default percentile `perc` is 92.5%. At this value only outside border edges longer than 92.5% of all the edges will be attempted to be removed."
   ]
  },
  {
   "cell_type": "code",
   "execution_count": null,
   "metadata": {},
   "outputs": [
    {
     "name": "stdout",
     "output_type": "stream",
     "text": [
      "There is 124 vertices on the current polygon.\n",
      "The suggested value to use is 0.0017366632\n",
      "\n",
      "There is 164 vertices on the new polygon.\n"
     ]
    }
   ],
   "source": [
    "print('There is', len(coords), 'vertices on the current polygon.')\n",
    "print('The suggested value to use is', round(ch.estimate(), 10))\n",
    "ch.calculatehull(tol=ch.estimate())\n",
    "print()\n",
    "print('There is', len(ch.boundary_points()), 'vertices on the new polygon.')"
   ]
  },
  {
   "cell_type": "markdown",
   "metadata": {},
   "source": [
    "The low value for the `estimate()` *(much smaller than 1)* suggest that the coordinates are in degress. When working in feet or meters it will be much larger."
   ]
  },
  {
   "cell_type": "markdown",
   "metadata": {},
   "source": [
    "### 2. Working directly with files"
   ]
  },
  {
   "cell_type": "markdown",
   "metadata": {},
   "source": [
    "[Fiona](https://github.com/Toblerity/Fiona) is used to read point data directly from files. The resulting `Polygon` can also be written to the file format supported by `Fiona`."
   ]
  },
  {
   "cell_type": "code",
   "execution_count": null,
   "metadata": {},
   "outputs": [],
   "source": [
    "from cdBoundary.fileio import FileIO\n",
    "\n",
    "fch = FileIO()\n",
    "fch.file2points('../examples/Bandelierkop_survey.shp')\n",
    "fch.write2file(tol=35)"
   ]
  },
  {
   "cell_type": "markdown",
   "metadata": {},
   "source": [
    "or"
   ]
  },
  {
   "cell_type": "code",
   "execution_count": null,
   "metadata": {},
   "outputs": [],
   "source": [
    "with open('../examples/points-1k.json') as source:\n",
    "    pts = json.load(source)\n",
    "fch = FileIO()\n",
    "fch.loadpoints(pts)\n",
    "fch.calculatehull(tol=ch.estimate())\n",
    "fch.write2file(outfile='../examples/concave_hull2.shp', driver='ESRI Shapefile')"
   ]
  },
  {
   "cell_type": "markdown",
   "metadata": {},
   "source": [
    "## Documentation"
   ]
  },
  {
   "cell_type": "markdown",
   "metadata": {},
   "source": [
    "[https://civildot.github.io/cdBoundary](https://civildot.github.io/cdBoundary/)"
   ]
  },
  {
   "cell_type": "markdown",
   "metadata": {},
   "source": [
    "## Requirements / Dependencies"
   ]
  },
  {
   "cell_type": "markdown",
   "metadata": {},
   "source": [
    "- [shapely](https://github.com/shapely/shapely)\n",
    "- [matplotlib](https://github.com/matplotlib/matplotlib)\n",
    "- [Fiona](https://github.com/Toblerity/Fiona) >= 1.9.4"
   ]
  },
  {
   "cell_type": "markdown",
   "metadata": {},
   "source": [
    "## Algorithm"
   ]
  },
  {
   "cell_type": "markdown",
   "metadata": {},
   "source": [
    "This concave hull implementation is based on the algorithm developed by Duckham et al. (2008) in the paper \"Efficient generation of simple polygons for characterizing the shape of a set of points in the plane\", available [here](http://www.geosensor.net/papers/duckham08.PR.pdf). "
   ]
  },
  {
   "cell_type": "markdown",
   "metadata": {},
   "source": [
    "## Wish list"
   ]
  },
  {
   "cell_type": "markdown",
   "metadata": {},
   "source": [
    "Possible features or enhancements in the future. Nothing planned. The library is already satisfactory for our speicific application.\n",
    "\n",
    "- Output to `PNG` for quick visualization\n",
    "- ~~Support  an elevation (Z value) on the polygon vertices~~ *Implemented 15 July 2023*\n",
    "- Support for holes\n",
    "- cli (Command Line Interface)\n",
    "- Provide as a QGIS Plugin"
   ]
  },
  {
   "cell_type": "markdown",
   "metadata": {},
   "source": [
    "## Similar Implementations"
   ]
  },
  {
   "cell_type": "markdown",
   "metadata": {},
   "source": [
    "A lot of *concave-hull* and *alpha-shape* implementations on Github, but very few using maximum edge length as an argument.  \n",
    "\n",
    "1. The greatest influence on *cdBoundary* is **[http://www.rotefabrik.free.fr/concave_hull](http://www.rotefabrik.free.fr/concave_hull)** which can be accessed through the [OpenJUMP](http://www.openjump.org/) user interface.\n",
    "2. The `lasboundary` command line program from **[LASTools](https://lastools.github.io/)** is unfortunately proprierity but also edge length as an argument and is very powerful.\n",
    "3. MacRoad, later **[HighRoad](http://www.interstudio.net/highroade.html)**, an ancient road design and earthworks program. Still being used today but no longer actively maintained. It has a `Join Edge Points` function which is a concave hull implementation already implemented in 1988. It has an `estimate` button which inspired the `estimate` function for cdBoundary.\n",
    "4. **[jtsop](https://github.com/locationtech/jts/blob/master/doc/JTSOp.md)** from the *JTS* (Java Topology Suite) has got a `Construction.concaveHullByLen` function as well."
   ]
  },
  {
   "cell_type": "code",
   "execution_count": null,
   "metadata": {},
   "outputs": [],
   "source": []
  }
 ],
 "metadata": {
  "kernelspec": {
   "display_name": "python3",
   "language": "python",
   "name": "python3"
  }
 },
 "nbformat": 4,
 "nbformat_minor": 4
}
